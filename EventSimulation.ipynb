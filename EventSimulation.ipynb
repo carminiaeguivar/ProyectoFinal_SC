{
 "cells": [
  {
   "cell_type": "markdown",
   "metadata": {},
   "source": [
    "# EVENT SIMULATION \n",
    "# Estudiante: Shirley Carminia Eguivar Villca"
   ]
  },
  {
   "cell_type": "markdown",
   "metadata": {},
   "source": [
    "### Definicion del Problema:"
   ]
  },
  {
   "cell_type": "markdown",
   "metadata": {},
   "source": [
    " Este taller de costura  tiene  3  operarios(costureros) cada operario tiene una maquina para la confeccion de las prendas\n",
    " Pero solo existe una sola maquina que coloca los botones\n",
    " Los operarios tienen que  turnarse para acceder a la maquina de colocado de botones una vez que terminan con la confeccion de la prenda.\n",
    " \n",
    " * El colocado de botones tarda entre 10 a 25 minutos por  operario \n",
    " * un operario solicita el uso de la maquina coloca botones cada 20 minutos  mas o menos\n",
    " \n",
    " Cuanto tiempo van a tardar en que todos los operarios accedan a la maquina coloca botones para que las prendas queden listas?\n"
   ]
  },
  {
   "cell_type": "markdown",
   "metadata": {},
   "source": [
    "### #1 Importamos las librerias necesarias"
   ]
  },
  {
   "cell_type": "code",
   "execution_count": 199,
   "metadata": {},
   "outputs": [],
   "source": [
    "import random\n",
    "import math\n",
    "import simpy"
   ]
  },
  {
   "cell_type": "markdown",
   "metadata": {},
   "source": [
    "### #2 Constantes y variables"
   ]
  },
  {
   "cell_type": "code",
   "execution_count": 200,
   "metadata": {},
   "outputs": [],
   "source": [
    "\n",
    "semilla = 15\n",
    "nro_maquinas = 1\n",
    "tiempo_min = 10\n",
    "tiempo_max = 25\n",
    "T_LLEGADAS = 20\n",
    "#TIEMPO_SIMULACION = 120\n",
    "nro_operarios = 6  # esa vez vamos a usar cantidad de operarios\n",
    " \n",
    "te  = 0.0 # tiempo de espera total\n",
    "dt  = 0.0 # Total del tiempo inverido en el colocado de botones\n",
    "fin = 0.0 # minuto en el que finaliza todo"
   ]
  },
  {
   "cell_type": "markdown",
   "metadata": {},
   "source": [
    "### #3 Procedimientos"
   ]
  },
  {
   "cell_type": "code",
   "execution_count": 205,
   "metadata": {},
   "outputs": [],
   "source": [
    "# El procedimiento costurar_botones simula el servidor \n",
    "# Este procedimiento simula el uso de la maquina por el operario\n",
    "# Y el tiempo que que tarda en el costurado de botones \n",
    "# Se utiliza la formula para el calculo de tiempo, considerar que el tiempo debe entrar dentro el rango de min a max\n",
    "# tiempo_costurado = tiempo_min + (tiempo_max – tiempo_min) R \n",
    "# donde R es un nro aleatorio el resultado debe darnos ujn valor en el rando definido\n",
    "\n",
    "def costurar_botones(operario):\n",
    "    global dt  \n",
    "    R = random.random()  \n",
    "    tiempo = tiempo_max - tiempo_min  \n",
    "    tiempo_costurado = tiempo_min + (tiempo*R) \n",
    "    yield env.timeout(tiempo_costurado) \n",
    "    #print('%7.4f %s: Botones listos' % (tiempo_costurado, operario))\n",
    "    dt = dt + tiempo_costurado \n",
    "\n",
    "\n",
    "# El procedimiento simula a los operarios que acceden/solicitan  la maquina de colocado de botones\n",
    "# Simula la llegada del operario, la salida\n",
    "\n",
    "def operario (env, name, maquina_botones ):\n",
    "    global te\n",
    "    global fin    \n",
    "    llega = env.now # Guarda el minuto de llegada del operario\n",
    "    print('%7.4f %s: Solicitando usar la maquina de botones' % (llega, name))\n",
    "    with maquina_botones.request() as request: \n",
    "        # Accede a la maquina\n",
    "        yield request \n",
    "        # minuto que accede al servidor\n",
    "        pasa = env.now \n",
    "        # tiempo que espera\n",
    "        espera = pasa - llega \n",
    "        # Acumulador de tiempos de espera\n",
    "        te = te + espera \n",
    "        print('%7.4f %s: Accede al uso de la maquina luego de esperar %6.4f min.' % (pasa, name, espera))\n",
    "        yield env.process(costurar_botones(name)) # Invoca al proceso costurar_botones\n",
    "        deja = env.now #Guarda el minuto en que termina el proceso costurar_botones \n",
    "        tiempo_costura =  deja-pasa\n",
    "        print('%7.4f %s: Finaliza el colocado de botones luego de  %6.4f  min.' % (deja, name,tiempo_costura))\n",
    "        fin = deja \n",
    "\n",
    "# Este procedimiento principal, que llama al operario y solicita el uso de la maquina coloca botones\n",
    "def main (env, maquina_botones):\n",
    "\tllegada = 0\n",
    "\ti = 0\n",
    "\tfor i in range(nro_operarios): # Para n operarios\n",
    "\t\tR = random.random()\n",
    "        # Distribucion exponencial\n",
    "\t\tllegada = -T_LLEGADAS * math.log(R) \n",
    "\t\tyield env.timeout(llegada)  \n",
    "\t\ti += 1\n",
    "\t\tenv.process(operario(env, 'Operario %d' % i, maquina_botones))"
   ]
  },
  {
   "cell_type": "markdown",
   "metadata": {},
   "source": [
    "### #4 Simulacion del Proceso"
   ]
  },
  {
   "cell_type": "code",
   "execution_count": 206,
   "metadata": {
    "scrolled": true
   },
   "outputs": [
    {
     "name": "stdout",
     "output_type": "stream",
     "text": [
      " 0.7075 Operario 1: Solicitando usar la maquina de botones\n",
      " 0.7075 Operario 1: Accede al uso de la maquina luego de esperar 0.0000 min.\n",
      "21.7474 Operario 1: Finaliza el colocado de botones luego de  21.0399  min.\n",
      "89.7485 Operario 2: Solicitando usar la maquina de botones\n",
      "89.7485 Operario 2: Accede al uso de la maquina luego de esperar 0.0000 min.\n",
      "114.5435 Operario 2: Finaliza el colocado de botones luego de  24.7951  min.\n",
      "126.6500 Operario 3: Solicitando usar la maquina de botones\n",
      "126.6500 Operario 3: Accede al uso de la maquina luego de esperar 0.0000 min.\n",
      "149.8424 Operario 3: Finaliza el colocado de botones luego de  23.1924  min.\n",
      "208.2818 Operario 4: Solicitando usar la maquina de botones\n",
      "208.2818 Operario 4: Accede al uso de la maquina luego de esperar 0.0000 min.\n",
      "215.9553 Operario 5: Solicitando usar la maquina de botones\n",
      "215.9590 Operario 6: Solicitando usar la maquina de botones\n",
      "231.1419 Operario 4: Finaliza el colocado de botones luego de  22.8601  min.\n",
      "231.1419 Operario 5: Accede al uso de la maquina luego de esperar 15.1866 min.\n",
      "244.7376 Operario 5: Finaliza el colocado de botones luego de  13.5957  min.\n",
      "244.7376 Operario 6: Accede al uso de la maquina luego de esperar 28.7786 min.\n",
      "259.8088 Operario 6: Finaliza el colocado de botones luego de  15.0712  min.\n"
     ]
    }
   ],
   "source": [
    "# Esta parte de codigo es la simulacion misma de \"teoria de colas\"\n",
    "random.seed (semilla)  \n",
    "env = simpy.Environment() \n",
    "# crea la maquina coloca botones (servidor)\n",
    "maquina_botones = simpy.Resource(env, nro_maquinas) \n",
    "# llama al procediminto principal\n",
    "env.process(main(env, maquina_botones)) \n",
    "# ejecuta la simulacion\n",
    "env.run() \n"
   ]
  },
  {
   "cell_type": "code",
   "execution_count": 221,
   "metadata": {},
   "outputs": [
    {
     "name": "stdout",
     "output_type": "stream",
     "text": [
      "\n",
      "---------------------------------------------------------------------\n",
      "Tiempo total para finalizar el colocado de botones = 259.81\n",
      "Nro de operarios: 6\n",
      "Nro de maquinas coloca botones: 1\n",
      "\n",
      "---------------------------------------------------------------------\n"
     ]
    }
   ],
   "source": [
    "print (\"\\n---------------------------------------------------------------------\")\n",
    "print (\"Tiempo total para finalizar el colocado de botones = %.2f\" % fin)\n",
    "print (\"Nro de operarios: %.f\" % nro_operarios)\n",
    "print (\"Nro de maquinas coloca botones: %.f\" % nro_maquinas)\n",
    "print (\"\\n---------------------------------------------------------------------\")\n"
   ]
  },
  {
   "cell_type": "code",
   "execution_count": null,
   "metadata": {},
   "outputs": [],
   "source": []
  },
  {
   "cell_type": "code",
   "execution_count": null,
   "metadata": {},
   "outputs": [],
   "source": []
  }
 ],
 "metadata": {
  "kernelspec": {
   "display_name": "Python 3",
   "language": "python",
   "name": "python3"
  },
  "language_info": {
   "codemirror_mode": {
    "name": "ipython",
    "version": 3
   },
   "file_extension": ".py",
   "mimetype": "text/x-python",
   "name": "python",
   "nbconvert_exporter": "python",
   "pygments_lexer": "ipython3",
   "version": "3.7.3"
  }
 },
 "nbformat": 4,
 "nbformat_minor": 2
}
