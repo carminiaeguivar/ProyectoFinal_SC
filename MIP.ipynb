{
 "cells": [
  {
   "cell_type": "markdown",
   "metadata": {},
   "source": [
    "# MIP\n",
    "# Estudiante: Shirley Carminia Eguivar Villca"
   ]
  },
  {
   "cell_type": "code",
   "execution_count": null,
   "metadata": {},
   "outputs": [],
   "source": []
  },
  {
   "cell_type": "code",
   "execution_count": 213,
   "metadata": {},
   "outputs": [],
   "source": [
    "#Descripcion del caso\n",
    "#Una empresa manufacturera de ropa dispone de  500 metros de tela , 400 botones  y 225 cierres.\n",
    "#Para confeccionar chamarras necesita 1m de tela y dos botones.\n",
    "#Para hacer buzos/pantalones necesita 2m de tela 1 boton y un cierre.\n",
    "#La ganancia por chamarra vendida en 20 Bs y por cada pantalon 30Bs\n",
    "#Cuantas prendas tendra a la venta al finalizar la confeccion?\n",
    "\n",
    "\n"
   ]
  },
  {
   "cell_type": "code",
   "execution_count": 216,
   "metadata": {},
   "outputs": [],
   "source": [
    "#Parte 1: Definir funciones y graficar\n",
    "#Parte 2:  Optimizar usando PULP"
   ]
  },
  {
   "cell_type": "markdown",
   "metadata": {},
   "source": [
    "# Parte 1: Definir funciones y graficar"
   ]
  },
  {
   "cell_type": "code",
   "execution_count": 214,
   "metadata": {},
   "outputs": [],
   "source": [
    "#Definiendo las funciones y graficando\n",
    "# x = nro de chamarras\n",
    "# y = nro  de pantalones\n",
    "\n",
    "\n",
    "#restricciones\n",
    "# x>=0\n",
    "# 0<=y<= 225\n",
    "# x+2y =500\n",
    "# 2x+y =400\n",
    "\n",
    "# Funcion Objetivo : MAXIMIZAR\n",
    "# z = 20x+30y\n"
   ]
  },
  {
   "cell_type": "code",
   "execution_count": 1,
   "metadata": {},
   "outputs": [
    {
     "data": {
      "text/plain": [
       "<matplotlib.legend.Legend at 0x247aa008198>"
      ]
     },
     "execution_count": 1,
     "metadata": {},
     "output_type": "execute_result"
    },
    {
     "data": {
      "image/png": "[encoded data removed]",
      "text/plain": [
       "<Figure size 432x288 with 1 Axes>"
      ]
     },
     "metadata": {
      "needs_background": "light"
     },
     "output_type": "display_data"
    }
   ],
   "source": [
    "import numpy as np\n",
    "import matplotlib.pyplot as plt\n",
    "%matplotlib inline\n",
    "\n",
    "# Construimos lines\n",
    "# x > 0\n",
    "x = np.linspace(0, 600, 2000)\n",
    "# y >=0\n",
    "y1 = x*0\n",
    "# y <= 225\n",
    "y2 = 225+(x*0)\n",
    "# x + 2y <= 500 \n",
    "y3 = (500-x)/2\n",
    "# 2x + y <= 400\n",
    "y4 = 400-2*x\n",
    "# 20x + 30y = 0\n",
    "y5 = (-20*x)/30\n",
    "\n",
    "\n",
    "# Hacemos plot\n",
    "plt.plot(x, y1, label=r'$y1: y\\geq0$')\n",
    "plt.plot(x, y2, label=r'$y2:y\\leq225$')\n",
    "plt.plot(x, y3, label=r'$y3: x + 2y \\leq 500$')\n",
    "plt.plot(x, y4, label=r'$y4: 2x + y \\leq 400$')\n",
    "plt.plot(x, y5, label=r'$y5: 20x + 30y = 0$')\n",
    "plt.xlim((0, 500))\n",
    "plt.ylim((-100, 500))\n",
    "plt.xlabel(r'$x$')\n",
    "plt.ylabel(r'$y$')\n",
    "\n",
    "#plt.plot(375, 250, 'b*', markersize=15)\n",
    "# Fill feasible region\n",
    "#y7 = np.minimum(y3, y4)\n",
    "#y8 = np.maximum(y3, y4)\n",
    "#plt.fill_between(x, 0, y8, where=y8>y1, color='grey', alpha=0.5)\n",
    "plt.legend(bbox_to_anchor=(1.05, 1), loc=2, borderaxespad=0.)\n"
   ]
  },
  {
   "cell_type": "markdown",
   "metadata": {},
   "source": []
  },
  {
   "cell_type": "markdown",
   "metadata": {},
   "source": [
    "# Parte 2:  Optimizar con PULP"
   ]
  },
  {
   "cell_type": "code",
   "execution_count": 223,
   "metadata": {},
   "outputs": [],
   "source": [
    "# x = nro de chamarras\n",
    "# y = nro  de pantalones\n",
    "\n",
    "\n",
    "#restricciones\n",
    "# x>=0\n",
    "# 0<=y<= 225\n",
    "# x+2y =500\n",
    "# 2x+y =400\n",
    "\n",
    "# Funcion Objetivo : MAXIMIZAR\n",
    "# z = 20x+30y"
   ]
  },
  {
   "cell_type": "code",
   "execution_count": 224,
   "metadata": {},
   "outputs": [
    {
     "name": "stdout",
     "output_type": "stream",
     "text": [
      "Problem:\n",
      "MAXIMIZE\n",
      "20*x + 30*y + 0\n",
      "SUBJECT TO\n",
      "_C1: x + 2 y <= 500\n",
      "\n",
      "_C2: 2 x + y <= 400\n",
      "\n",
      "_C3: x >= 0\n",
      "\n",
      "_C4: y <= 225\n",
      "\n",
      "VARIABLES\n",
      "x Continuous\n",
      "y Continuous\n",
      "\n",
      "Optimal\n",
      "100.0 200.0 8000.0\n"
     ]
    }
   ],
   "source": [
    "# import the library pulp \n",
    "import pulp as p \n",
    "  \n",
    "# Creamps  LP Maximization problem \n",
    "Lp_prob = p.LpProblem('Problem', p.LpMaximize)  \n",
    "  \n",
    "# Create problem Variables  \n",
    "x = p.LpVariable(\"x\", lowBound = 0)   # Create a variable x >= 0 \n",
    "y = p.LpVariable(\"y\", lowBound = 0)   # Create a variable y >= 0 \n",
    "  \n",
    "# Objective Function \n",
    "Lp_prob += 20 * x + 30 * y    \n",
    "  \n",
    "# Constraints: \n",
    "Lp_prob +=   x + 2 * y <= 500\n",
    "Lp_prob += 2*x + y <= 400\n",
    "Lp_prob += x >= 0\n",
    "Lp_prob += y <= 225\n",
    "  \n",
    "# Display the problem \n",
    "print(Lp_prob) \n",
    "  \n",
    "status = Lp_prob.solve()   # Solver \n",
    "print(p.LpStatus[status])   # The solution status \n",
    "  \n",
    "# Printing the final solution \n",
    "print(p.value(x), p.value(y), p.value(Lp_prob.objective))"
   ]
  },
  {
   "cell_type": "code",
   "execution_count": null,
   "metadata": {},
   "outputs": [],
   "source": []
  }
 ],
 "metadata": {
  "kernelspec": {
   "display_name": "Python 3",
   "language": "python",
   "name": "python3"
  },
  "language_info": {
   "codemirror_mode": {
    "name": "ipython",
    "version": 3
   },
   "file_extension": ".py",
   "mimetype": "text/x-python",
   "name": "python",
   "nbconvert_exporter": "python",
   "pygments_lexer": "ipython3",
   "version": "3.7.3"
  }
 },
 "nbformat": 4,
 "nbformat_minor": 2
}
